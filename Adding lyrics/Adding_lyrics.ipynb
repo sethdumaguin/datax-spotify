{
 "cells": [
  {
   "cell_type": "code",
   "execution_count": 125,
   "metadata": {},
   "outputs": [],
   "source": [
    "# Import packages #\n",
    "import pandas as pd\n",
    "import os\n",
    "import lyricsgenius\n",
    "from PyLyrics import *"
   ]
  },
  {
   "cell_type": "code",
   "execution_count": 126,
   "metadata": {},
   "outputs": [
    {
     "data": {
      "text/plain": [
       "'C:\\\\Users\\\\Rune-\\\\OneDrive - Aarhus universitet\\\\Oecon\\\\8. semester\\\\Indeng 135\\\\New project'"
      ]
     },
     "execution_count": 126,
     "metadata": {},
     "output_type": "execute_result"
    }
   ],
   "source": [
    "os.getcwd()"
   ]
  },
  {
   "cell_type": "code",
   "execution_count": 127,
   "metadata": {},
   "outputs": [],
   "source": [
    "os.chdir('C:\\\\Users\\\\Rune-\\\\OneDrive - Aarhus universitet\\\\Oecon\\\\8. semester\\\\Indeng 135\\\\New project')"
   ]
  },
  {
   "cell_type": "code",
   "execution_count": 128,
   "metadata": {},
   "outputs": [],
   "source": [
    "df = pd.read_csv('Data\\\\Spotify Data - Sheet1.csv')"
   ]
  },
  {
   "cell_type": "code",
   "execution_count": 129,
   "metadata": {},
   "outputs": [],
   "source": [
    "df = df.drop(columns = ['Unnamed: 0', 'sel', 'Unnamed: 2'])"
   ]
  },
  {
   "cell_type": "code",
   "execution_count": 130,
   "metadata": {},
   "outputs": [
    {
     "data": {
      "text/html": [
       "<div>\n",
       "<style scoped>\n",
       "    .dataframe tbody tr th:only-of-type {\n",
       "        vertical-align: middle;\n",
       "    }\n",
       "\n",
       "    .dataframe tbody tr th {\n",
       "        vertical-align: top;\n",
       "    }\n",
       "\n",
       "    .dataframe thead th {\n",
       "        text-align: right;\n",
       "    }\n",
       "</style>\n",
       "<table border=\"1\" class=\"dataframe\">\n",
       "  <thead>\n",
       "    <tr style=\"text-align: right;\">\n",
       "      <th></th>\n",
       "      <th>title</th>\n",
       "      <th>artist</th>\n",
       "      <th>top genre</th>\n",
       "      <th>year</th>\n",
       "      <th>added</th>\n",
       "      <th>bpm</th>\n",
       "      <th>nrgy</th>\n",
       "      <th>dnce</th>\n",
       "      <th>dB</th>\n",
       "      <th>live</th>\n",
       "      <th>val</th>\n",
       "      <th>dur</th>\n",
       "      <th>acous</th>\n",
       "      <th>spch</th>\n",
       "      <th>pop</th>\n",
       "    </tr>\n",
       "  </thead>\n",
       "  <tbody>\n",
       "    <tr>\n",
       "      <th>0</th>\n",
       "      <td>It's You - Radio Edit</td>\n",
       "      <td>Syn Cole</td>\n",
       "      <td>big room</td>\n",
       "      <td>2015</td>\n",
       "      <td>2017‑10‑07</td>\n",
       "      <td>128</td>\n",
       "      <td>83</td>\n",
       "      <td>65</td>\n",
       "      <td>-4</td>\n",
       "      <td>13</td>\n",
       "      <td>49</td>\n",
       "      <td>212</td>\n",
       "      <td>11</td>\n",
       "      <td>5</td>\n",
       "      <td>58</td>\n",
       "    </tr>\n",
       "    <tr>\n",
       "      <th>1</th>\n",
       "      <td>Show You Love</td>\n",
       "      <td>Kato</td>\n",
       "      <td>danish hip hop</td>\n",
       "      <td>2017</td>\n",
       "      <td>2018‑10‑25</td>\n",
       "      <td>124</td>\n",
       "      <td>83</td>\n",
       "      <td>69</td>\n",
       "      <td>-5</td>\n",
       "      <td>7</td>\n",
       "      <td>66</td>\n",
       "      <td>183</td>\n",
       "      <td>29</td>\n",
       "      <td>7</td>\n",
       "      <td>47</td>\n",
       "    </tr>\n",
       "    <tr>\n",
       "      <th>2</th>\n",
       "      <td>Just Us</td>\n",
       "      <td>Said the Sky</td>\n",
       "      <td>chillstep</td>\n",
       "      <td>2018</td>\n",
       "      <td>2019‑02‑28</td>\n",
       "      <td>109</td>\n",
       "      <td>58</td>\n",
       "      <td>75</td>\n",
       "      <td>-5</td>\n",
       "      <td>10</td>\n",
       "      <td>33</td>\n",
       "      <td>163</td>\n",
       "      <td>19</td>\n",
       "      <td>6</td>\n",
       "      <td>68</td>\n",
       "    </tr>\n",
       "    <tr>\n",
       "      <th>3</th>\n",
       "      <td>Warriors - Rob Adans Remix</td>\n",
       "      <td>Nicky Romero</td>\n",
       "      <td>big room</td>\n",
       "      <td>2015</td>\n",
       "      <td>2017‑05‑17</td>\n",
       "      <td>127</td>\n",
       "      <td>89</td>\n",
       "      <td>67</td>\n",
       "      <td>-3</td>\n",
       "      <td>66</td>\n",
       "      <td>65</td>\n",
       "      <td>312</td>\n",
       "      <td>0</td>\n",
       "      <td>4</td>\n",
       "      <td>36</td>\n",
       "    </tr>\n",
       "    <tr>\n",
       "      <th>4</th>\n",
       "      <td>The Sweet Escape</td>\n",
       "      <td>Gwen Stefani</td>\n",
       "      <td>australian pop</td>\n",
       "      <td>2006</td>\n",
       "      <td>2016‑01‑08</td>\n",
       "      <td>120</td>\n",
       "      <td>77</td>\n",
       "      <td>75</td>\n",
       "      <td>-3</td>\n",
       "      <td>16</td>\n",
       "      <td>74</td>\n",
       "      <td>246</td>\n",
       "      <td>21</td>\n",
       "      <td>3</td>\n",
       "      <td>66</td>\n",
       "    </tr>\n",
       "  </tbody>\n",
       "</table>\n",
       "</div>"
      ],
      "text/plain": [
       "                        title        artist       top genre  year       added  \\\n",
       "0       It's You - Radio Edit      Syn Cole        big room  2015  2017‑10‑07   \n",
       "1               Show You Love          Kato  danish hip hop  2017  2018‑10‑25   \n",
       "2                     Just Us  Said the Sky       chillstep  2018  2019‑02‑28   \n",
       "3  Warriors - Rob Adans Remix  Nicky Romero        big room  2015  2017‑05‑17   \n",
       "4            The Sweet Escape  Gwen Stefani  australian pop  2006  2016‑01‑08   \n",
       "\n",
       "   bpm  nrgy  dnce  dB  live  val  dur  acous  spch  pop  \n",
       "0  128    83    65  -4    13   49  212     11     5   58  \n",
       "1  124    83    69  -5     7   66  183     29     7   47  \n",
       "2  109    58    75  -5    10   33  163     19     6   68  \n",
       "3  127    89    67  -3    66   65  312      0     4   36  \n",
       "4  120    77    75  -3    16   74  246     21     3   66  "
      ]
     },
     "execution_count": 130,
     "metadata": {},
     "output_type": "execute_result"
    }
   ],
   "source": [
    "df.head()"
   ]
  },
  {
   "cell_type": "markdown",
   "metadata": {},
   "source": [
    "# Delete irrelevant rows #"
   ]
  },
  {
   "cell_type": "code",
   "execution_count": 131,
   "metadata": {},
   "outputs": [],
   "source": [
    "df = df.drop_duplicates(subset=['title', 'artist'])\n",
    "df = df[df.title.notnull()]\n",
    "df = df[df.artist.notnull()]"
   ]
  },
  {
   "cell_type": "code",
   "execution_count": 132,
   "metadata": {},
   "outputs": [
    {
     "data": {
      "text/plain": [
       "(1414, 15)"
      ]
     },
     "execution_count": 132,
     "metadata": {},
     "output_type": "execute_result"
    }
   ],
   "source": [
    "df.shape"
   ]
  },
  {
   "cell_type": "code",
   "execution_count": 139,
   "metadata": {},
   "outputs": [],
   "source": [
    "titles = []\n",
    "\n",
    "# Change song names to only the core, such that you remove things as \"Radio edit\" and so on #\n",
    "for title in df['title']:\n",
    "    title = title.split(\" - \")[0]\n",
    "    title = title.split(\"(\")[0]\n",
    "    titles.append(title)\n",
    "    \n",
    "df['title_core'] = titles"
   ]
  },
  {
   "cell_type": "markdown",
   "metadata": {},
   "source": [
    "# Get lyrics using lyricsgenius package "
   ]
  },
  {
   "cell_type": "code",
   "execution_count": 142,
   "metadata": {},
   "outputs": [],
   "source": [
    "genius = lyricsgenius.Genius(\"Da_pLO6QKdtfZ7QRnNaXdhmsxxtjRzNwwGJLWHKEHgxNM81GfF7oy5THRWeKMfTa\") # Get access to Genius API #\n",
    "genius.verbose = False # Turn off status messages"
   ]
  },
  {
   "cell_type": "code",
   "execution_count": 143,
   "metadata": {
    "scrolled": false
   },
   "outputs": [
    {
     "name": "stdout",
     "output_type": "stream",
     "text": [
      "Error with:\n",
      "None Axwell /\\ Ingrosso\n",
      "Error with:\n",
      "None Otto Knows\n",
      "Error with:\n",
      "None Dzeko & Torres\n",
      "Error with:\n",
      "None Madison Mars\n",
      "Error with:\n",
      "None Julian Calor\n",
      "Error with:\n",
      "None Kryder\n",
      "Error with:\n",
      "None Creedence Clearwater Revival\n",
      "Error with:\n",
      "None The Echelon Effect\n",
      "Error with:\n",
      "None Dario Marianelli\n",
      "Error with:\n",
      "None Dario Marianelli\n",
      "Error with:\n",
      "None Dario Marianelli\n",
      "Error with:\n",
      "None Balmorhea\n",
      "Error with:\n",
      "None The Echelon Effect\n",
      "Error with:\n",
      "None Balmorhea\n",
      "Error with:\n",
      "None Keith Kenniff\n",
      "Error with:\n",
      "None U137\n",
      "Error with:\n",
      "None The Echelon Effect\n",
      "Error with:\n",
      "None Tracey Chattaway\n",
      "Error with:\n",
      "None Lowercase Noises\n",
      "Error with:\n",
      "None Tracey Chattaway\n",
      "Error with:\n",
      "None James Horner\n",
      "Error with:\n",
      "None Mychael Danna\n",
      "Error with:\n",
      "None Michael Kamen\n",
      "Error with:\n",
      "None Tom Tykwer\n",
      "Error with:\n",
      "None James Newton Howard\n",
      "Error with:\n",
      "None Nicholas Britell\n",
      "Error with:\n",
      "None Ramin Djawadi\n",
      "Error with:\n",
      "None James Newton Howard\n",
      "Error with:\n",
      "None Hans Zimmer\n",
      "Error with:\n",
      "None Joey Pecoraro\n",
      "Error with:\n",
      "None Mad Q\n",
      "Error with:\n",
      "None Allem Iversom\n",
      "Error with:\n",
      "None Minthaze\n",
      "Error with:\n",
      "None FloFilz\n",
      "Error with:\n",
      "None Cecelya\n",
      "Error with:\n",
      "None Matthew Schultz\n",
      "Error with:\n",
      "None MVS\n",
      "Error with:\n",
      "None Bituke\n",
      "Error with:\n",
      "None Isery\n",
      "Error with:\n",
      "None Monocle Twins\n",
      "Error with:\n",
      "None HOUNDTRACK\n",
      "Error with:\n",
      "None Chill Cole\n",
      "Error with:\n",
      "None Arylith\n",
      "Error with:\n",
      "None Threedust\n",
      "Error with:\n",
      "None Unoriginals\n",
      "Error with:\n",
      "None Kathryn Kluge, Kim Allen Kluge\n",
      "Error with:\n",
      "None DigiDogz\n",
      "Error with:\n",
      "None Funk Fiction\n",
      "Error with:\n",
      "None Brooklyn Comatose\n",
      "Error with:\n",
      "None Keypling\n",
      "Error with:\n",
      "None Jaffna\n",
      "Error with:\n",
      "None Melosense\n",
      "Error with:\n",
      "None Jonas Winge Leisner\n",
      "Error with:\n",
      "None VRWRK\n",
      "Error with:\n",
      "None LRKR\n",
      "Error with:\n",
      "None Lawrence Lui\n",
      "Error with:\n",
      "None Kuaigon\n",
      "Error with:\n",
      "None M.A.D.R.A.S.\n",
      "Error with:\n",
      "None Bladtkramer\n",
      "Error with:\n",
      "None LRKR\n",
      "Error with:\n",
      "None Melosense\n",
      "Error with:\n",
      "None JK Soul\n",
      "Error with:\n",
      "None Jakob Ahlbom\n",
      "Error with:\n",
      "None P!nk\n",
      "Error with:\n",
      "None Poolside\n",
      "Error with:\n",
      "None Todd Terje\n",
      "Error with:\n",
      "None Blakroc featuring Billy Danze, Jim Jones & Nicole Wray\n",
      "Error with:\n",
      "None JAY Z\n",
      "Timeout raised and caught:\n",
      "HTTPSConnectionPool(host='api.genius.com', port=443): Read timed out. (read timeout=5)\n"
     ]
    },
    {
     "ename": "TypeError",
     "evalue": "'NoneType' object is not subscriptable",
     "output_type": "error",
     "traceback": [
      "\u001b[1;31m---------------------------------------------------------------------------\u001b[0m",
      "\u001b[1;31mTypeError\u001b[0m                                 Traceback (most recent call last)",
      "\u001b[1;32m<ipython-input-143-7e4a508f4738>\u001b[0m in \u001b[0;36m<module>\u001b[1;34m\u001b[0m\n\u001b[0;32m      2\u001b[0m \u001b[1;32mfor\u001b[0m \u001b[0msong\u001b[0m\u001b[1;33m,\u001b[0m \u001b[0martist\u001b[0m \u001b[1;32min\u001b[0m \u001b[0mzip\u001b[0m\u001b[1;33m(\u001b[0m\u001b[0mdf\u001b[0m\u001b[1;33m[\u001b[0m\u001b[1;34m'title_core'\u001b[0m\u001b[1;33m]\u001b[0m\u001b[1;33m,\u001b[0m \u001b[0mdf\u001b[0m\u001b[1;33m[\u001b[0m\u001b[1;34m'artist'\u001b[0m\u001b[1;33m]\u001b[0m\u001b[1;33m)\u001b[0m\u001b[1;33m:\u001b[0m\u001b[1;33m\u001b[0m\u001b[1;33m\u001b[0m\u001b[0m\n\u001b[0;32m      3\u001b[0m         \u001b[1;32mtry\u001b[0m\u001b[1;33m:\u001b[0m\u001b[1;33m\u001b[0m\u001b[1;33m\u001b[0m\u001b[0m\n\u001b[1;32m----> 4\u001b[1;33m             \u001b[0msong\u001b[0m \u001b[1;33m=\u001b[0m \u001b[0mgenius\u001b[0m\u001b[1;33m.\u001b[0m\u001b[0msearch_song\u001b[0m\u001b[1;33m(\u001b[0m\u001b[0msong\u001b[0m\u001b[1;33m,\u001b[0m \u001b[0martist\u001b[0m\u001b[1;33m)\u001b[0m\u001b[1;33m\u001b[0m\u001b[1;33m\u001b[0m\u001b[0m\n\u001b[0m\u001b[0;32m      5\u001b[0m             \u001b[0mlyrics\u001b[0m\u001b[1;33m.\u001b[0m\u001b[0mappend\u001b[0m\u001b[1;33m(\u001b[0m\u001b[0msong\u001b[0m\u001b[1;33m.\u001b[0m\u001b[0mlyrics\u001b[0m\u001b[1;33m)\u001b[0m\u001b[1;33m\u001b[0m\u001b[1;33m\u001b[0m\u001b[0m\n\u001b[0;32m      6\u001b[0m         \u001b[1;32mexcept\u001b[0m \u001b[0mAttributeError\u001b[0m\u001b[1;33m:\u001b[0m\u001b[1;33m\u001b[0m\u001b[1;33m\u001b[0m\u001b[0m\n",
      "\u001b[1;32m~\\Anaconda3\\envs\\data-x\\lib\\site-packages\\lyricsgenius\\api.py\u001b[0m in \u001b[0;36msearch_song\u001b[1;34m(self, title, artist, get_full_info)\u001b[0m\n\u001b[0;32m    301\u001b[0m         \u001b[1;31m# Download full song info (an API call) unless told not to by user\u001b[0m\u001b[1;33m\u001b[0m\u001b[1;33m\u001b[0m\u001b[1;33m\u001b[0m\u001b[0m\n\u001b[0;32m    302\u001b[0m         \u001b[1;32mif\u001b[0m \u001b[0mget_full_info\u001b[0m\u001b[1;33m:\u001b[0m\u001b[1;33m\u001b[0m\u001b[1;33m\u001b[0m\u001b[0m\n\u001b[1;32m--> 303\u001b[1;33m             \u001b[0msong_info\u001b[0m \u001b[1;33m=\u001b[0m \u001b[0mself\u001b[0m\u001b[1;33m.\u001b[0m\u001b[0mget_song\u001b[0m\u001b[1;33m(\u001b[0m\u001b[0mresult\u001b[0m\u001b[1;33m[\u001b[0m\u001b[1;34m'id'\u001b[0m\u001b[1;33m]\u001b[0m\u001b[1;33m)\u001b[0m\u001b[1;33m[\u001b[0m\u001b[1;34m'song'\u001b[0m\u001b[1;33m]\u001b[0m\u001b[1;33m\u001b[0m\u001b[1;33m\u001b[0m\u001b[0m\n\u001b[0m\u001b[0;32m    304\u001b[0m         \u001b[1;32melse\u001b[0m\u001b[1;33m:\u001b[0m\u001b[1;33m\u001b[0m\u001b[1;33m\u001b[0m\u001b[0m\n\u001b[0;32m    305\u001b[0m             \u001b[0msong_info\u001b[0m \u001b[1;33m=\u001b[0m \u001b[0mresult\u001b[0m\u001b[1;33m\u001b[0m\u001b[1;33m\u001b[0m\u001b[0m\n",
      "\u001b[1;31mTypeError\u001b[0m: 'NoneType' object is not subscriptable"
     ]
    }
   ],
   "source": [
    "lyrics = []\n",
    "i = 1\n",
    "Fails = 0\n",
    "for song, artist in zip(df['title_core'], df['artist']):\n",
    "        try:\n",
    "            new_song = genius.search_song(song, artist)\n",
    "            lyrics.append(new_song.lyrics)\n",
    "            i += 1\n",
    "        except AttributeError:\n",
    "            lyrics.append('NaN')\n",
    "            print('Error with song %s:' % i)\n",
    "            print(song, artist)\n",
    "            print('Number of fails = %s' % Fails)\n",
    "            print('\\n')\n",
    "            i += 1\n",
    "            Fails += 1"
   ]
  },
  {
   "cell_type": "code",
   "execution_count": 146,
   "metadata": {},
   "outputs": [],
   "source": [
    "for i in range(0, 1414 - 1307):\n",
    "    lyrics.append('NaN')"
   ]
  },
  {
   "cell_type": "code",
   "execution_count": 147,
   "metadata": {
    "scrolled": true
   },
   "outputs": [],
   "source": [
    "df['lyrics'] = lyrics"
   ]
  },
  {
   "cell_type": "markdown",
   "metadata": {},
   "source": [
    "# Sentiment analysis on the lyrics #"
   ]
  },
  {
   "cell_type": "code",
   "execution_count": 150,
   "metadata": {},
   "outputs": [
    {
     "name": "stderr",
     "output_type": "stream",
     "text": [
      "[nltk_data] Downloading package vader_lexicon to\n",
      "[nltk_data]     C:\\Users\\Rune-\\AppData\\Roaming\\nltk_data...\n"
     ]
    },
    {
     "data": {
      "text/plain": [
       "True"
      ]
     },
     "execution_count": 150,
     "metadata": {},
     "output_type": "execute_result"
    }
   ],
   "source": [
    "from nltk.sentiment.vader import SentimentIntensityAnalyzer\n",
    "from sklearn.metrics import accuracy_score\n",
    "import nltk\n",
    "#nltk.download('vader_lexicon')"
   ]
  },
  {
   "cell_type": "code",
   "execution_count": 151,
   "metadata": {},
   "outputs": [],
   "source": [
    "vader = SentimentIntensityAnalyzer()\n",
    "def vader_polarity(text):\n",
    "    \"\"\" Transform the output to a binary 0/1 result \"\"\"\n",
    "    score = vader.polarity_scores(text)\n",
    "    return 1 if score['pos'] > score['neg'] else 0"
   ]
  },
  {
   "cell_type": "code",
   "execution_count": 152,
   "metadata": {},
   "outputs": [],
   "source": [
    "pos_score = []\n",
    "neg_score = []\n",
    "sent_score = []\n",
    "for lyric in lyrics:\n",
    "    score = vader.polarity_scores(lyric)\n",
    "    pos_score.append(score['pos'])\n",
    "    neg_score.append(score['neg'])\n",
    "    sent_score.append(1*(score['pos'] > score['neg']))"
   ]
  },
  {
   "cell_type": "code",
   "execution_count": 153,
   "metadata": {},
   "outputs": [],
   "source": [
    "df['lyric_pos_sent'] = pos_score\n",
    "df['lyric_neg_sent'] = neg_score\n",
    "df['Pos/Neg'] = sent_score"
   ]
  },
  {
   "cell_type": "markdown",
   "metadata": {},
   "source": [
    "# Save new dataframe"
   ]
  },
  {
   "cell_type": "code",
   "execution_count": 160,
   "metadata": {},
   "outputs": [],
   "source": [
    "df.to_csv('Spotify_v5.csv', sep='\\t', encoding='utf-8')"
   ]
  },
  {
   "cell_type": "code",
   "execution_count": null,
   "metadata": {},
   "outputs": [],
   "source": []
  }
 ],
 "metadata": {
  "kernelspec": {
   "display_name": "Python 3",
   "language": "python",
   "name": "python3"
  },
  "language_info": {
   "codemirror_mode": {
    "name": "ipython",
    "version": 3
   },
   "file_extension": ".py",
   "mimetype": "text/x-python",
   "name": "python",
   "nbconvert_exporter": "python",
   "pygments_lexer": "ipython3",
   "version": "3.6.7"
  }
 },
 "nbformat": 4,
 "nbformat_minor": 2
}
