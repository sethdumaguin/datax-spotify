{
 "cells": [
  {
   "cell_type": "markdown",
   "metadata": {},
   "source": [
    "# Running a random forest model on the data #"
   ]
  },
  {
   "cell_type": "markdown",
   "metadata": {},
   "source": [
    "**Comment:** <br>\n",
    "Here a random forest model will be trained where we can use the OOB error to tune the parameters of the model."
   ]
  },
  {
   "cell_type": "markdown",
   "metadata": {},
   "source": [
    "## Load data "
   ]
  },
  {
   "cell_type": "code",
   "execution_count": 1,
   "metadata": {},
   "outputs": [],
   "source": [
    "import pandas as pd\n",
    "import sklearn\n",
    "from sklearn.preprocessing import MinMaxScaler\n",
    "import numpy as np\n",
    "import math\n",
    "import matplotlib as mpl\n",
    "from matplotlib import pyplot as plt"
   ]
  },
  {
   "cell_type": "code",
   "execution_count": 2,
   "metadata": {},
   "outputs": [
    {
     "data": {
      "text/html": [
       "<div>\n",
       "<style scoped>\n",
       "    .dataframe tbody tr th:only-of-type {\n",
       "        vertical-align: middle;\n",
       "    }\n",
       "\n",
       "    .dataframe tbody tr th {\n",
       "        vertical-align: top;\n",
       "    }\n",
       "\n",
       "    .dataframe thead th {\n",
       "        text-align: right;\n",
       "    }\n",
       "</style>\n",
       "<table border=\"1\" class=\"dataframe\">\n",
       "  <thead>\n",
       "    <tr style=\"text-align: right;\">\n",
       "      <th></th>\n",
       "      <th>Unnamed: 0</th>\n",
       "      <th>title</th>\n",
       "      <th>artist</th>\n",
       "      <th>top genre</th>\n",
       "      <th>year</th>\n",
       "      <th>added</th>\n",
       "      <th>bpm</th>\n",
       "      <th>nrgy</th>\n",
       "      <th>dnce</th>\n",
       "      <th>dB</th>\n",
       "      <th>...</th>\n",
       "      <th>val</th>\n",
       "      <th>dur</th>\n",
       "      <th>acous</th>\n",
       "      <th>spch</th>\n",
       "      <th>pop</th>\n",
       "      <th>title_core</th>\n",
       "      <th>lyrics</th>\n",
       "      <th>lyric_pos_sent</th>\n",
       "      <th>lyric_neg_sent</th>\n",
       "      <th>Pos/Neg</th>\n",
       "    </tr>\n",
       "  </thead>\n",
       "  <tbody>\n",
       "    <tr>\n",
       "      <th>0</th>\n",
       "      <td>0</td>\n",
       "      <td>It's You - Radio Edit</td>\n",
       "      <td>Syn Cole</td>\n",
       "      <td>big room</td>\n",
       "      <td>2015</td>\n",
       "      <td>2017‑10‑07</td>\n",
       "      <td>128</td>\n",
       "      <td>83</td>\n",
       "      <td>65</td>\n",
       "      <td>-4</td>\n",
       "      <td>...</td>\n",
       "      <td>49</td>\n",
       "      <td>212</td>\n",
       "      <td>11</td>\n",
       "      <td>5</td>\n",
       "      <td>58</td>\n",
       "      <td>It's You</td>\n",
       "      <td>[Verse 1: Syn Cole]\\r\\nPaints like a picture, ...</td>\n",
       "      <td>0.191</td>\n",
       "      <td>0.100</td>\n",
       "      <td>1</td>\n",
       "    </tr>\n",
       "    <tr>\n",
       "      <th>1</th>\n",
       "      <td>1</td>\n",
       "      <td>Show You Love</td>\n",
       "      <td>Kato</td>\n",
       "      <td>danish hip hop</td>\n",
       "      <td>2017</td>\n",
       "      <td>2018‑10‑25</td>\n",
       "      <td>124</td>\n",
       "      <td>83</td>\n",
       "      <td>69</td>\n",
       "      <td>-5</td>\n",
       "      <td>...</td>\n",
       "      <td>66</td>\n",
       "      <td>183</td>\n",
       "      <td>29</td>\n",
       "      <td>7</td>\n",
       "      <td>47</td>\n",
       "      <td>Show You Love</td>\n",
       "      <td>[Verse 1: Hailee Steinfeld]\\r\\nI'll do this th...</td>\n",
       "      <td>0.363</td>\n",
       "      <td>0.025</td>\n",
       "      <td>1</td>\n",
       "    </tr>\n",
       "    <tr>\n",
       "      <th>2</th>\n",
       "      <td>2</td>\n",
       "      <td>Just Us</td>\n",
       "      <td>Said the Sky</td>\n",
       "      <td>chillstep</td>\n",
       "      <td>2018</td>\n",
       "      <td>2019‑02‑28</td>\n",
       "      <td>109</td>\n",
       "      <td>58</td>\n",
       "      <td>75</td>\n",
       "      <td>-5</td>\n",
       "      <td>...</td>\n",
       "      <td>33</td>\n",
       "      <td>163</td>\n",
       "      <td>19</td>\n",
       "      <td>6</td>\n",
       "      <td>68</td>\n",
       "      <td>Just Us</td>\n",
       "      <td>[Verse 1]\\r\\nBeen so long\\r\\nSince I had someo...</td>\n",
       "      <td>0.050</td>\n",
       "      <td>0.041</td>\n",
       "      <td>1</td>\n",
       "    </tr>\n",
       "    <tr>\n",
       "      <th>3</th>\n",
       "      <td>3</td>\n",
       "      <td>Warriors - Rob Adans Remix</td>\n",
       "      <td>Nicky Romero</td>\n",
       "      <td>big room</td>\n",
       "      <td>2015</td>\n",
       "      <td>2017‑05‑17</td>\n",
       "      <td>127</td>\n",
       "      <td>89</td>\n",
       "      <td>67</td>\n",
       "      <td>-3</td>\n",
       "      <td>...</td>\n",
       "      <td>65</td>\n",
       "      <td>312</td>\n",
       "      <td>0</td>\n",
       "      <td>4</td>\n",
       "      <td>36</td>\n",
       "      <td>Warriors</td>\n",
       "      <td>[Verse]\\r\\nEmerging from the dust and rubble\\r...</td>\n",
       "      <td>0.000</td>\n",
       "      <td>0.111</td>\n",
       "      <td>0</td>\n",
       "    </tr>\n",
       "    <tr>\n",
       "      <th>4</th>\n",
       "      <td>4</td>\n",
       "      <td>The Sweet Escape</td>\n",
       "      <td>Gwen Stefani</td>\n",
       "      <td>australian pop</td>\n",
       "      <td>2006</td>\n",
       "      <td>2016‑01‑08</td>\n",
       "      <td>120</td>\n",
       "      <td>77</td>\n",
       "      <td>75</td>\n",
       "      <td>-3</td>\n",
       "      <td>...</td>\n",
       "      <td>74</td>\n",
       "      <td>246</td>\n",
       "      <td>21</td>\n",
       "      <td>3</td>\n",
       "      <td>66</td>\n",
       "      <td>The Sweet Escape</td>\n",
       "      <td>[Intro: Akon]\\r\\nKonvict, Konvict, Konvict\\r\\n...</td>\n",
       "      <td>0.123</td>\n",
       "      <td>0.127</td>\n",
       "      <td>0</td>\n",
       "    </tr>\n",
       "  </tbody>\n",
       "</table>\n",
       "<p>5 rows × 21 columns</p>\n",
       "</div>"
      ],
      "text/plain": [
       "   Unnamed: 0                       title        artist       top genre  year  \\\n",
       "0           0       It's You - Radio Edit      Syn Cole        big room  2015   \n",
       "1           1               Show You Love          Kato  danish hip hop  2017   \n",
       "2           2                     Just Us  Said the Sky       chillstep  2018   \n",
       "3           3  Warriors - Rob Adans Remix  Nicky Romero        big room  2015   \n",
       "4           4            The Sweet Escape  Gwen Stefani  australian pop  2006   \n",
       "\n",
       "        added  bpm  nrgy  dnce  dB   ...     val  dur  acous  spch  pop  \\\n",
       "0  2017‑10‑07  128    83    65  -4   ...      49  212     11     5   58   \n",
       "1  2018‑10‑25  124    83    69  -5   ...      66  183     29     7   47   \n",
       "2  2019‑02‑28  109    58    75  -5   ...      33  163     19     6   68   \n",
       "3  2017‑05‑17  127    89    67  -3   ...      65  312      0     4   36   \n",
       "4  2016‑01‑08  120    77    75  -3   ...      74  246     21     3   66   \n",
       "\n",
       "         title_core                                             lyrics  \\\n",
       "0          It's You  [Verse 1: Syn Cole]\\r\\nPaints like a picture, ...   \n",
       "1     Show You Love  [Verse 1: Hailee Steinfeld]\\r\\nI'll do this th...   \n",
       "2           Just Us  [Verse 1]\\r\\nBeen so long\\r\\nSince I had someo...   \n",
       "3          Warriors  [Verse]\\r\\nEmerging from the dust and rubble\\r...   \n",
       "4  The Sweet Escape  [Intro: Akon]\\r\\nKonvict, Konvict, Konvict\\r\\n...   \n",
       "\n",
       "  lyric_pos_sent  lyric_neg_sent  Pos/Neg  \n",
       "0          0.191           0.100        1  \n",
       "1          0.363           0.025        1  \n",
       "2          0.050           0.041        1  \n",
       "3          0.000           0.111        0  \n",
       "4          0.123           0.127        0  \n",
       "\n",
       "[5 rows x 21 columns]"
      ]
     },
     "execution_count": 2,
     "metadata": {},
     "output_type": "execute_result"
    }
   ],
   "source": [
    "df = pd.read_csv('../Spotify_v3.csv', sep = ';')\n",
    "df.head()"
   ]
  },
  {
   "cell_type": "code",
   "execution_count": 3,
   "metadata": {},
   "outputs": [],
   "source": [
    "# Change outcome variable to be between -1 and 1 #\n",
    "df['Pos/Neg'] = 1*df['lyric_pos_sent']*(df['Pos/Neg'] == 1) + (-1)*df['lyric_neg_sent']*(df['Pos/Neg'] == 0)\n",
    "\n",
    "# Drop NaN rows #\n",
    "df = df.dropna(axis = 0)\n",
    "\n",
    "# Scale output between 0 and 1\n",
    "x = df[['Pos/Neg']].values.astype(float)\n",
    "\n",
    "min_max_scaler = MinMaxScaler()\n",
    "\n",
    "x_scaled = min_max_scaler.fit_transform(x)\n",
    "\n",
    "df['Pos/Neg'] = x_scaled"
   ]
  },
  {
   "cell_type": "code",
   "execution_count": 4,
   "metadata": {},
   "outputs": [],
   "source": [
    "# Get the variables that are used as X variables #\n",
    "X = df[['bpm', 'nrgy', 'dnce', 'dB', 'live', 'val', 'dur', 'acous','spch', 'pop']]\n",
    "Y = df['Pos/Neg']"
   ]
  },
  {
   "cell_type": "code",
   "execution_count": 5,
   "metadata": {},
   "outputs": [
    {
     "name": "stdout",
     "output_type": "stream",
     "text": [
      "bpm: [Min = 49, Max = 204]\n",
      "\r\n",
      "nrgy: [Min = 0, Max = 99]\n",
      "\r\n",
      "dnce: [Min = 7, Max = 97]\n",
      "\r\n",
      "dB: [Min = -36, Max = -1]\n",
      "\r\n",
      "live: [Min = 2, Max = 97]\n",
      "\r\n",
      "val: [Min = 3, Max = 97]\n",
      "\r\n",
      "dur: [Min = 58, Max = 695]\n",
      "\r\n",
      "acous: [Min = 0, Max = 100]\n",
      "\r\n",
      "spch: [Min = 2, Max = 62]\n",
      "\r\n",
      "pop: [Min = 0, Max = 98]\n",
      "\r\n"
     ]
    }
   ],
   "source": [
    "for var in ['bpm', 'nrgy', 'dnce', 'dB', 'live', 'val', 'dur', 'acous', 'spch', 'pop']:\n",
    "    print('%s: [Min = %s, Max = %s]' % (var, df[var].min(), df[var].max()))\n",
    "    print('\\r')"
   ]
  },
  {
   "cell_type": "markdown",
   "metadata": {},
   "source": [
    "## Split into training and test data "
   ]
  },
  {
   "cell_type": "code",
   "execution_count": 6,
   "metadata": {},
   "outputs": [],
   "source": [
    "from sklearn.model_selection import train_test_split"
   ]
  },
  {
   "cell_type": "code",
   "execution_count": 7,
   "metadata": {},
   "outputs": [],
   "source": [
    "X_train, X_test, Y_train, Y_test = train_test_split(X, Y, test_size=0.2, random_state = 7)"
   ]
  },
  {
   "cell_type": "markdown",
   "metadata": {},
   "source": [
    "## Tune the Random Forest model"
   ]
  },
  {
   "cell_type": "code",
   "execution_count": 8,
   "metadata": {
    "scrolled": true
   },
   "outputs": [
    {
     "data": {
      "text/plain": [
       "10"
      ]
     },
     "execution_count": 8,
     "metadata": {},
     "output_type": "execute_result"
    }
   ],
   "source": [
    "from sklearn.ensemble import RandomForestRegressor\n",
    "\n",
    "# Tune the number of variables to consider in each split #\n",
    "OOB_score = {}\n",
    "for i in range(1, X.shape[1] + 1):\n",
    "    RF_regr = RandomForestRegressor(min_samples_leaf = 5, random_state=0, n_estimators = 1000,\n",
    "                            criterion = 'mse', max_features = i, n_jobs = -1, oob_score = True)\n",
    "    RF_regr.fit(X_train, Y_train)\n",
    "    \n",
    "    OOB_score[i] = RF_regr.oob_score_\n",
    "    \n",
    "min(OOB_score, key=OOB_score.get)"
   ]
  },
  {
   "cell_type": "code",
   "execution_count": 9,
   "metadata": {},
   "outputs": [
    {
     "data": {
      "image/png": "[encoded data removed]",
      "text/plain": [
       "<Figure size 432x288 with 1 Axes>"
      ]
     },
     "metadata": {
      "needs_background": "light"
     },
     "output_type": "display_data"
    }
   ],
   "source": [
    "plt.plot([i for i in range(1, 11)], OOB_score.values(), '-bo', label = 'OOB Error');\n",
    "plt.xlabel('Number of variables to try');\n",
    "plt.ylabel('OOB Error');\n",
    "plt.legend(loc = 'upper right');\n",
    "plt.show()"
   ]
  },
  {
   "cell_type": "markdown",
   "metadata": {},
   "source": [
    "**Comment:** <br>\n",
    "This is almost equivalent to the maximum number of parameters that is allowed, which in this case `10`. Here the optimal number of variables to consider at each split is found to be `10`.\n",
    "\n",
    "Here we consider the OOB error which is approximately the test error.\n",
    "\n",
    "One can also train the number of data points there needs to be in the leafs, but this is usally 5 in regression and 1 in the classification example respectively.\n"
   ]
  },
  {
   "cell_type": "markdown",
   "metadata": {},
   "source": [
    "## Train the Random Forest model best on the optimal number of variables at each split"
   ]
  },
  {
   "cell_type": "code",
   "execution_count": 10,
   "metadata": {},
   "outputs": [
    {
     "data": {
      "text/plain": [
       "RandomForestRegressor(bootstrap=True, criterion='mse', max_depth=None,\n",
       "           max_features=10, max_leaf_nodes=None, min_impurity_decrease=0.0,\n",
       "           min_impurity_split=None, min_samples_leaf=5,\n",
       "           min_samples_split=2, min_weight_fraction_leaf=0.0,\n",
       "           n_estimators=1000, n_jobs=-1, oob_score=True, random_state=0,\n",
       "           verbose=0, warm_start=False)"
      ]
     },
     "execution_count": 10,
     "metadata": {},
     "output_type": "execute_result"
    }
   ],
   "source": [
    "model_opt = RandomForestRegressor(min_samples_leaf = 5, random_state=0, n_estimators = 1000,\n",
    "                            criterion = 'mse', max_features = min(OOB_score, key=OOB_score.get), n_jobs = -1, oob_score = True)\n",
    "model_opt.fit(X_train, Y_train)"
   ]
  },
  {
   "cell_type": "markdown",
   "metadata": {},
   "source": [
    "## Check the model"
   ]
  },
  {
   "cell_type": "code",
   "execution_count": 11,
   "metadata": {},
   "outputs": [
    {
     "data": {
      "text/plain": [
       "array([0.11372531, 0.09225547, 0.11514673, 0.04952784, 0.1151354 ,\n",
       "       0.12921783, 0.11531586, 0.09169677, 0.07831527, 0.09966353])"
      ]
     },
     "execution_count": 11,
     "metadata": {},
     "output_type": "execute_result"
    }
   ],
   "source": [
    "model_opt.feature_importances_"
   ]
  },
  {
   "cell_type": "code",
   "execution_count": 12,
   "metadata": {},
   "outputs": [
    {
     "data": {
      "image/png": "[encoded data removed]",
      "text/plain": [
       "<Figure size 432x288 with 1 Axes>"
      ]
     },
     "metadata": {
      "needs_background": "light"
     },
     "output_type": "display_data"
    }
   ],
   "source": [
    "feat_importances = pd.Series(model_opt.feature_importances_, index=X.columns)\n",
    "feat_importances.nlargest(9).plot(kind='barh');"
   ]
  },
  {
   "cell_type": "markdown",
   "metadata": {},
   "source": [
    "**Comment:** <br>\n",
    "Here it is seen that `val = valence` is the most important parameter in explaining the `mood score`."
   ]
  },
  {
   "cell_type": "code",
   "execution_count": 13,
   "metadata": {
    "scrolled": true
   },
   "outputs": [
    {
     "name": "stdout",
     "output_type": "stream",
     "text": [
      "Optimal out of bag error = -0.006654\n"
     ]
    }
   ],
   "source": [
    "print('Optimal out of bag error = %s' % round(model_opt.oob_score_, 7))"
   ]
  },
  {
   "cell_type": "markdown",
   "metadata": {},
   "source": [
    "## Computing test error (Test MSE)"
   ]
  },
  {
   "cell_type": "code",
   "execution_count": 14,
   "metadata": {},
   "outputs": [],
   "source": [
    "def TestMSE(Y_test, Y_pred):\n",
    "    '''\n",
    "    Input: Array/List of Test set Y values and array of test set Y predictions.\n",
    "    Output: TestMSE\n",
    "    '''\n",
    "    \n",
    "    Y_test = np.array(Y_test)\n",
    "    Y_pred = np.array(Y_pred)\n",
    "    \n",
    "    Sq_err = []\n",
    "    \n",
    "    for Y, pred in zip(Y_test, Y_pred):\n",
    "        Sq_err.append( (Y - pred) ** 2 )\n",
    "        \n",
    "    Mean_sq_err = np.mean(Sq_err)\n",
    "    \n",
    "    return Mean_sq_err"
   ]
  },
  {
   "cell_type": "code",
   "execution_count": 15,
   "metadata": {},
   "outputs": [
    {
     "name": "stdout",
     "output_type": "stream",
     "text": [
      "Test MSE for the Random forest model = 0.01149\n"
     ]
    }
   ],
   "source": [
    "# Predict for the Test values #\n",
    "\n",
    "Y_pred = model_opt.predict(X_test)\n",
    "\n",
    "# Calculate the Test MSE #\n",
    "Test_MSE_Rf = TestMSE(Y_test, Y_pred)\n",
    "\n",
    "print('Test MSE for the Random forest model = %s' % round(Test_MSE_Rf, 5))"
   ]
  },
  {
   "cell_type": "markdown",
   "metadata": {},
   "source": [
    "## Linear regression"
   ]
  },
  {
   "cell_type": "code",
   "execution_count": 16,
   "metadata": {},
   "outputs": [
    {
     "data": {
      "text/plain": [
       "LinearRegression(copy_X=True, fit_intercept=True, n_jobs=None,\n",
       "         normalize=False)"
      ]
     },
     "execution_count": 16,
     "metadata": {},
     "output_type": "execute_result"
    }
   ],
   "source": [
    "# Import package #\n",
    "from sklearn.linear_model import LinearRegression\n",
    "\n",
    "lm = LinearRegression()\n",
    "lm.fit(X_train, Y_train)"
   ]
  },
  {
   "cell_type": "code",
   "execution_count": 17,
   "metadata": {},
   "outputs": [
    {
     "name": "stdout",
     "output_type": "stream",
     "text": [
      "Test MSE for the linear regression model = 0.01212\n"
     ]
    }
   ],
   "source": [
    "# Predict with the linear regression model #\n",
    "Y_pred_lm = lm.predict(X_test)\n",
    "\n",
    "# Calculate Test MSE for the linear regression model #\n",
    "Test_MSE_lm = TestMSE(Y_test, Y_pred_lm)\n",
    "\n",
    "print('Test MSE for the linear regression model = %s' % round(Test_MSE_lm, 5))"
   ]
  },
  {
   "cell_type": "markdown",
   "metadata": {},
   "source": [
    "**Comment:** <br>\n",
    "We see that the Random forest is slightly better."
   ]
  },
  {
   "cell_type": "markdown",
   "metadata": {},
   "source": [
    "## Random forest Pickle"
   ]
  },
  {
   "cell_type": "code",
   "execution_count": 18,
   "metadata": {},
   "outputs": [],
   "source": [
    "import pickle"
   ]
  },
  {
   "cell_type": "code",
   "execution_count": 19,
   "metadata": {
    "scrolled": true
   },
   "outputs": [
    {
     "data": {
      "text/plain": [
       "RandomForestRegressor(bootstrap=True, criterion='mse', max_depth=None,\n",
       "           max_features=10, max_leaf_nodes=None, min_impurity_decrease=0.0,\n",
       "           min_impurity_split=None, min_samples_leaf=5,\n",
       "           min_samples_split=2, min_weight_fraction_leaf=0.0,\n",
       "           n_estimators=1000, n_jobs=-1, oob_score=True, random_state=0,\n",
       "           verbose=0, warm_start=False)"
      ]
     },
     "execution_count": 19,
     "metadata": {},
     "output_type": "execute_result"
    }
   ],
   "source": [
    "Rf_model = RandomForestRegressor(min_samples_leaf = 5, random_state=0, n_estimators = 1000,\n",
    "                            criterion = 'mse', max_features = min(OOB_score, key=OOB_score.get), n_jobs = -1, oob_score = True)\n",
    "Rf_model.fit(X, Y)"
   ]
  },
  {
   "cell_type": "code",
   "execution_count": 20,
   "metadata": {},
   "outputs": [],
   "source": [
    "filename = 'Rf_model.pickle'\n",
    "\n",
    "pickle_out = open(filename, 'wb')\n",
    "\n",
    "pickle.dump(Rf_model, pickle_out)\n",
    "pickle_out.close()"
   ]
  },
  {
   "cell_type": "code",
   "execution_count": null,
   "metadata": {},
   "outputs": [],
   "source": []
  }
 ],
 "metadata": {
  "kernelspec": {
   "display_name": "Python 3",
   "language": "python",
   "name": "python3"
  },
  "language_info": {
   "codemirror_mode": {
    "name": "ipython",
    "version": 3
   },
   "file_extension": ".py",
   "mimetype": "text/x-python",
   "name": "python",
   "nbconvert_exporter": "python",
   "pygments_lexer": "ipython3",
   "version": "3.6.7"
  }
 },
 "nbformat": 4,
 "nbformat_minor": 2
}
