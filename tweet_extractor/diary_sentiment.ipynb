{
 "cells": [
  {
   "cell_type": "code",
   "execution_count": 7,
   "metadata": {},
   "outputs": [
    {
     "name": "stdout",
     "output_type": "stream",
     "text": [
      "hello i am sad today\n"
     ]
    }
   ],
   "source": [
    "txt = input()  "
   ]
  },
  {
   "cell_type": "code",
   "execution_count": 8,
   "metadata": {},
   "outputs": [],
   "source": [
    "from textblob import TextBlob\n",
    "textb = TextBlob(txt)"
   ]
  },
  {
   "cell_type": "code",
   "execution_count": 9,
   "metadata": {},
   "outputs": [
    {
     "data": {
      "text/plain": [
       "Sentiment(polarity=-0.5, subjectivity=1.0)"
      ]
     },
     "execution_count": 9,
     "metadata": {},
     "output_type": "execute_result"
    }
   ],
   "source": [
    "textb.sentiment"
   ]
  },
  {
   "cell_type": "code",
   "execution_count": 30,
   "metadata": {},
   "outputs": [],
   "source": [
    "##lets compare the sentiment of vader\n",
    "import pandas as pd\n",
    "import numpy as np\n",
    "import re\n",
    "df = pd.read_csv('uncleanedds.csv')\n",
    "df = df.drop(columns = [\"Unnamed: 0\"])\n",
    "df['no_punc_text'] = df['full_text']\n",
    "df = df[~df['no_punc_text'].str.startswith('RT')]\n",
    "df = df[~df['no_punc_text'].str.startswith('LIVE')]\n",
    "df = df[~df['no_punc_text'].str.startswith('ICYMI')]\n",
    "df = df[~df['no_punc_text'].str.startswith('WATCH')]\n",
    "def removeatusernames(tweet):\n",
    "    return re.sub(r'(@[A-Za-z0-9]+)','',tweet)\n",
    "def removelinks(tweet):\n",
    "    return re.sub(r'http\\S+','',tweet)\n",
    "def removeemojis(tweet):\n",
    "    return tweet.encode('ascii', 'ignore').decode('ascii')\n",
    "def removehashtags(tweet):\n",
    "    return re.sub(r'(#[A-Za-z0-9]+)','',tweet)\n",
    "def removePuncs(tweet):\n",
    "    return re.sub(r'[^\\w\\s]','', tweet)"
   ]
  },
  {
   "cell_type": "code",
   "execution_count": 11,
   "metadata": {},
   "outputs": [],
   "source": [
    "df['no_punc_text'] = df['no_punc_text'].apply(removelinks).apply(removeatusernames).apply(removehashtags)"
   ]
  },
  {
   "cell_type": "code",
   "execution_count": 12,
   "metadata": {},
   "outputs": [],
   "source": [
    "df = df[~df['no_punc_text'].str.startswith(' ')]\n",
    "df['no_punc_text'] = df['no_punc_text'].str.lower()"
   ]
  },
  {
   "cell_type": "code",
   "execution_count": 13,
   "metadata": {},
   "outputs": [],
   "source": [
    "#VADER\n",
    "from vaderSentiment.vaderSentiment import SentimentIntensityAnalyzer\n",
    "analyser = SentimentIntensityAnalyzer()\n",
    "def sentiment_analyzer_scores_1(sentence):\n",
    "    score = analyser.polarity_scores(sentence)\n",
    "    return score['compound']\n",
    "df['vader_pol'] = df['full_text'].apply(sentiment_analyzer_scores_1)"
   ]
  },
  {
   "cell_type": "code",
   "execution_count": 14,
   "metadata": {},
   "outputs": [],
   "source": [
    "df['vader_sentiment'] = [1 if x >= 0 else 0 for x in df['vader_pol']]\n"
   ]
  },
  {
   "cell_type": "code",
   "execution_count": 15,
   "metadata": {},
   "outputs": [],
   "source": [
    "from sklearn.feature_extraction.text import CountVectorizer\n",
    "vectorizer = CountVectorizer(analyzer = 'word',lowercase = False)\n",
    "features = vectorizer.fit_transform(df['no_punc_text'])\n",
    "features_nd = features.toarray()"
   ]
  },
  {
   "cell_type": "code",
   "execution_count": 16,
   "metadata": {},
   "outputs": [
    {
     "name": "stderr",
     "output_type": "stream",
     "text": [
      "/anaconda3/lib/python3.7/site-packages/sklearn/model_selection/_split.py:2179: FutureWarning: From version 0.21, test_size will always complement train_size unless both are specified.\n",
      "  FutureWarning)\n"
     ]
    }
   ],
   "source": [
    "from sklearn.model_selection import train_test_split\n",
    "\n",
    "X_train, X_test, y_train, y_test  = train_test_split(\n",
    "        features_nd, \n",
    "        df['vader_sentiment'],\n",
    "        train_size=0.80)"
   ]
  },
  {
   "cell_type": "code",
   "execution_count": 17,
   "metadata": {},
   "outputs": [
    {
     "name": "stderr",
     "output_type": "stream",
     "text": [
      "/anaconda3/lib/python3.7/site-packages/sklearn/linear_model/logistic.py:433: FutureWarning: Default solver will be changed to 'lbfgs' in 0.22. Specify a solver to silence this warning.\n",
      "  FutureWarning)\n"
     ]
    }
   ],
   "source": [
    "from sklearn.linear_model import LogisticRegression\n",
    "log_model = LogisticRegression()\n",
    "log_model = log_model.fit(X=X_train, y=y_train)\n",
    "y_pred = log_model.predict(X_test)"
   ]
  },
  {
   "cell_type": "code",
   "execution_count": 18,
   "metadata": {},
   "outputs": [
    {
     "name": "stdout",
     "output_type": "stream",
     "text": [
      "0.9092783505154639\n"
     ]
    }
   ],
   "source": [
    "from sklearn.metrics import accuracy_score\n",
    "print(accuracy_score(y_test, y_pred))"
   ]
  },
  {
   "cell_type": "code",
   "execution_count": null,
   "metadata": {},
   "outputs": [],
   "source": []
  },
  {
   "cell_type": "code",
   "execution_count": 19,
   "metadata": {},
   "outputs": [],
   "source": [
    "import pandas as pd\n",
    "import numpy as np\n",
    "import re\n",
    "tb_df = pd.read_csv('uncleanedds.csv')\n",
    "tb_df = tb_df.drop(columns = [\"Unnamed: 0\"])\n",
    "tb_df['no_punc_text'] = tb_df['full_text']\n",
    "tb_df = tb_df[~tb_df['no_punc_text'].str.startswith('RT')]\n",
    "tb_df = tb_df[~tb_df['no_punc_text'].str.startswith('LIVE')]\n",
    "tb_df = tb_df[~tb_df['no_punc_text'].str.startswith('ICYMI')]\n",
    "tb_df = tb_df[~tb_df['no_punc_text'].str.startswith('WATCH')]\n",
    "def removeatusernames(tweet):\n",
    "    return re.sub(r'(@[A-Za-z0-9]+)','',tweet)\n",
    "def removelinks(tweet):\n",
    "    return re.sub(r'http\\S+','',tweet)\n",
    "def removeemojis(tweet):\n",
    "    return tweet.encode('ascii', 'ignore').decode('ascii')\n",
    "def removehashtags(tweet):\n",
    "    return re.sub(r'(#[A-Za-z0-9]+)','',tweet)\n",
    "def removePuncs(tweet):\n",
    "    return re.sub(r'[^\\w\\s]','', tweet)\n",
    "tb_df['no_punc_text'] = tb_df['no_punc_text'].apply(removelinks).apply(removeatusernames).apply(removehashtags)\n",
    "tb_df = tb_df[~tb_df['no_punc_text'].str.startswith(' ')]\n",
    "tb_df['no_punc_text'] = tb_df['no_punc_text'].str.lower()\n"
   ]
  },
  {
   "cell_type": "code",
   "execution_count": 20,
   "metadata": {},
   "outputs": [],
   "source": [
    "from textblob import TextBlob\n",
    "sentiment_objects = [TextBlob(tweet) for tweet in tb_df['no_punc_text']]\n",
    "sentiment_values = [[tweet.sentiment.polarity, str(tweet)] for tweet in sentiment_objects]\n",
    "sentiment_df = pd.DataFrame(sentiment_values, columns=[\"polarity\", \"text\"])\n",
    "sentiment_df['sentiment'] = [1 if x >= 0 else 0 for x in sentiment_df['polarity']]"
   ]
  },
  {
   "cell_type": "code",
   "execution_count": null,
   "metadata": {},
   "outputs": [],
   "source": []
  },
  {
   "cell_type": "code",
   "execution_count": null,
   "metadata": {},
   "outputs": [],
   "source": []
  },
  {
   "cell_type": "code",
   "execution_count": 21,
   "metadata": {},
   "outputs": [
    {
     "name": "stderr",
     "output_type": "stream",
     "text": [
      "/anaconda3/lib/python3.7/site-packages/sklearn/model_selection/_split.py:2179: FutureWarning: From version 0.21, test_size will always complement train_size unless both are specified.\n",
      "  FutureWarning)\n",
      "/anaconda3/lib/python3.7/site-packages/sklearn/linear_model/logistic.py:433: FutureWarning: Default solver will be changed to 'lbfgs' in 0.22. Specify a solver to silence this warning.\n",
      "  FutureWarning)\n"
     ]
    }
   ],
   "source": [
    "from sklearn.feature_extraction.text import CountVectorizer\n",
    "vectorizer = CountVectorizer(analyzer = 'word',lowercase = False)\n",
    "features = vectorizer.fit_transform(sentiment_df['text'])\n",
    "features_nd = features.toarray()\n",
    "from sklearn.model_selection import train_test_split\n",
    "X_train, X_test, y_train, y_test  = train_test_split(\n",
    "        features_nd, \n",
    "        sentiment_df['sentiment'],\n",
    "        train_size=0.80)\n",
    "from sklearn.linear_model import LogisticRegression\n",
    "log_model = LogisticRegression()\n",
    "log_model = log_model.fit(X=X_train, y=y_train)\n",
    "y_pred = log_model.predict(X_test)"
   ]
  },
  {
   "cell_type": "code",
   "execution_count": 22,
   "metadata": {},
   "outputs": [
    {
     "name": "stdout",
     "output_type": "stream",
     "text": [
      "0.9381443298969072\n"
     ]
    }
   ],
   "source": [
    "from sklearn.metrics import accuracy_score\n",
    "print(accuracy_score(y_test, y_pred))"
   ]
  },
  {
   "cell_type": "code",
   "execution_count": 23,
   "metadata": {},
   "outputs": [],
   "source": [
    "listoftweets = ['The amount of time I put into to study for one midterm here is the amount of time I put in to study for two AP tests in high school... and you’re telling me I didn’t get an A??? A scam','Really not trynna go back to school tomorrow smh','i think i have, like, extra feelings']"
   ]
  },
  {
   "cell_type": "code",
   "execution_count": 29,
   "metadata": {},
   "outputs": [],
   "source": [
    "tb_df = pd.read_csv('uncleanedds.csv')\n",
    "tb_df = tb_df.drop(columns = [\"Unnamed: 0\"])\n",
    "tb_df['no_punc_text'] = tb_df['full_text']\n",
    "tb_df = tb_df[~tb_df['no_punc_text'].str.startswith('RT')]\n",
    "tb_df = tb_df[~tb_df['no_punc_text'].str.startswith('LIVE')]\n",
    "tb_df = tb_df[~tb_df['no_punc_text'].str.startswith('ICYMI')]\n",
    "tb_df = tb_df[~tb_df['no_punc_text'].str.startswith('WATCH')]\n",
    "def removeatusernames(tweet):\n",
    "    return re.sub(r'(@[A-Za-z0-9]+)','',tweet)\n",
    "def removelinks(tweet):\n",
    "    return re.sub(r'http\\S+','',tweet)\n",
    "def removeemojis(tweet):\n",
    "    return tweet.encode('ascii', 'ignore').decode('ascii')\n",
    "def removehashtags(tweet):\n",
    "    return re.sub(r'(#[A-Za-z0-9]+)','',tweet)\n",
    "def removePuncs(tweet):\n",
    "    return re.sub(r'[^\\w\\s]','', tweet)\n",
    "tb_df['no_punc_text'] = tb_df['no_punc_text'].apply(removelinks).apply(removeatusernames).apply(removehashtags)\n",
    "tb_df = tb_df[~tb_df['no_punc_text'].str.startswith(' ')]\n",
    "tb_df['no_punc_text'] = tb_df['no_punc_text'].str.lower()\n",
    "\n",
    "from textblob import TextBlob\n",
    "sentiment_objects = [TextBlob(tweet) for tweet in tb_df['no_punc_text']]\n",
    "sentiment_values = [[tweet.sentiment.polarity, str(tweet)] for tweet in sentiment_objects]\n",
    "sentiment_df = pd.DataFrame(sentiment_values, columns=[\"polarity\", \"text\"])\n",
    "sentiment_df['sentiment'] = [1 if x >= 0 else 0 for x in sentiment_df['polarity']]"
   ]
  },
  {
   "cell_type": "code",
   "execution_count": null,
   "metadata": {},
   "outputs": [],
   "source": [
    "sentiment "
   ]
  },
  {
   "cell_type": "code",
   "execution_count": null,
   "metadata": {},
   "outputs": [],
   "source": []
  },
  {
   "cell_type": "code",
   "execution_count": null,
   "metadata": {},
   "outputs": [],
   "source": []
  },
  {
   "cell_type": "code",
   "execution_count": null,
   "metadata": {},
   "outputs": [],
   "source": []
  },
  {
   "cell_type": "code",
   "execution_count": null,
   "metadata": {},
   "outputs": [],
   "source": []
  },
  {
   "cell_type": "code",
   "execution_count": null,
   "metadata": {},
   "outputs": [],
   "source": []
  },
  {
   "cell_type": "code",
   "execution_count": null,
   "metadata": {},
   "outputs": [],
   "source": []
  },
  {
   "cell_type": "code",
   "execution_count": null,
   "metadata": {},
   "outputs": [],
   "source": []
  }
 ],
 "metadata": {
  "kernelspec": {
   "display_name": "Python 3",
   "language": "python",
   "name": "python3"
  },
  "language_info": {
   "codemirror_mode": {
    "name": "ipython",
    "version": 3
   },
   "file_extension": ".py",
   "mimetype": "text/x-python",
   "name": "python",
   "nbconvert_exporter": "python",
   "pygments_lexer": "ipython3",
   "version": "3.7.1"
  }
 },
 "nbformat": 4,
 "nbformat_minor": 2
}
