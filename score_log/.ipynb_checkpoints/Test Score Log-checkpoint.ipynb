{
 "cells": [
  {
   "cell_type": "markdown",
   "metadata": {},
   "source": [
    "# Database Log"
   ]
  },
  {
   "cell_type": "code",
   "execution_count": 1,
   "metadata": {},
   "outputs": [],
   "source": [
    "import numpy as np\n",
    "import pandas as pd\n",
    "import matplotlib as mp\n",
    "import matplotlib.pyplot as plt\n",
    "from sqlalchemy import create_engine"
   ]
  },
  {
   "cell_type": "code",
   "execution_count": 2,
   "metadata": {},
   "outputs": [
    {
     "data": {
      "text/html": [
       "<div>\n",
       "<style scoped>\n",
       "    .dataframe tbody tr th:only-of-type {\n",
       "        vertical-align: middle;\n",
       "    }\n",
       "\n",
       "    .dataframe tbody tr th {\n",
       "        vertical-align: top;\n",
       "    }\n",
       "\n",
       "    .dataframe thead th {\n",
       "        text-align: right;\n",
       "    }\n",
       "</style>\n",
       "<table border=\"1\" class=\"dataframe\">\n",
       "  <thead>\n",
       "    <tr style=\"text-align: right;\">\n",
       "      <th></th>\n",
       "      <th>Date</th>\n",
       "      <th>Mood Score</th>\n",
       "    </tr>\n",
       "  </thead>\n",
       "  <tbody>\n",
       "    <tr>\n",
       "      <th>0</th>\n",
       "      <td>2019-04-23</td>\n",
       "      <td>87</td>\n",
       "    </tr>\n",
       "    <tr>\n",
       "      <th>1</th>\n",
       "      <td>2019-04-24</td>\n",
       "      <td>95</td>\n",
       "    </tr>\n",
       "    <tr>\n",
       "      <th>2</th>\n",
       "      <td>2019-04-25</td>\n",
       "      <td>92</td>\n",
       "    </tr>\n",
       "    <tr>\n",
       "      <th>3</th>\n",
       "      <td>2019-04-26</td>\n",
       "      <td>95</td>\n",
       "    </tr>\n",
       "    <tr>\n",
       "      <th>4</th>\n",
       "      <td>2019-04-27</td>\n",
       "      <td>93</td>\n",
       "    </tr>\n",
       "  </tbody>\n",
       "</table>\n",
       "</div>"
      ],
      "text/plain": [
       "         Date  Mood Score\n",
       "0  2019-04-23          87\n",
       "1  2019-04-24          95\n",
       "2  2019-04-25          92\n",
       "3  2019-04-26          95\n",
       "4  2019-04-27          93"
      ]
     },
     "execution_count": 2,
     "metadata": {},
     "output_type": "execute_result"
    }
   ],
   "source": [
    "# Import csv as a df\n",
    "df = pd.read_csv('test_week_scores.csv', delimiter=',')\n",
    "df.head()"
   ]
  },
  {
   "cell_type": "code",
   "execution_count": 8,
   "metadata": {},
   "outputs": [
    {
     "data": {
      "text/plain": [
       "[(0, '2019-04-23', 87),\n",
       " (1, '2019-04-24', 95),\n",
       " (2, '2019-04-25', 92),\n",
       " (3, '2019-04-26', 95),\n",
       " (4, '2019-04-27', 93),\n",
       " (5, '2019-04-28', 90),\n",
       " (6, '2019-04-29', 85)]"
      ]
     },
     "execution_count": 8,
     "metadata": {},
     "output_type": "execute_result"
    }
   ],
   "source": [
    "# Convert to SQL\n",
    "engine = create_engine('sqlite://',echo=False)\n",
    "df.to_sql('test_week_scores', engine)\n",
    "\n",
    "engine.execute(\"SELECT * FROM test_week_scores;\").fetchall()"
   ]
  },
  {
   "cell_type": "code",
   "execution_count": 13,
   "metadata": {},
   "outputs": [
    {
     "name": "stdout",
     "output_type": "stream",
     "text": [
      "Average Score for the Last Seven Days: 91\n"
     ]
    }
   ],
   "source": [
    "# Extract Data\n",
    "dates = engine.execute(\"SELECT DATE(Date) FROM test_week_scores;\").fetchall()\n",
    "scores = engine.execute(\"SELECT [Mood Score] FROM test_week_scores\").fetchall()\n",
    "\n",
    "avg_score = np.mean(scores)\n",
    "phrase = \"Average Score for the Last Seven Days: %i\" % (avg_score)\n",
    "print(phrase)"
   ]
  },
  {
   "cell_type": "code",
   "execution_count": 15,
   "metadata": {},
   "outputs": [
    {
     "data": {
      "image/png": "[encoded data removed]",
      "text/plain": [
       "<Figure size 864x576 with 1 Axes>"
      ]
     },
     "metadata": {
      "needs_background": "light"
     },
     "output_type": "display_data"
    }
   ],
   "source": [
    "# Plot Log\n",
    "plt.rcParams['figure.figsize'] = [12, 8]\n",
    "f, ax = plt.subplots()\n",
    "ax.plot(df['Date'], scores, '-o', color='orange')\n",
    "ax.set_title('Mood Scores for the Last Week', fontweight='bold',fontsize=18) \n",
    "ax.set_xlabel('Date', fontsize=14);\n",
    "ax.set_ylabel('Mood Scores', fontsize=14);\n",
    "ax.set_ylim(0, 100);\n",
    "\n",
    "ax.text(3.5, 10, phrase, style='italic', bbox={'facecolor': 'red', 'alpha': 0.5, 'pad': 10});"
   ]
  },
  {
   "cell_type": "code",
   "execution_count": null,
   "metadata": {},
   "outputs": [],
   "source": []
  },
  {
   "cell_type": "code",
   "execution_count": null,
   "metadata": {},
   "outputs": [],
   "source": []
  }
 ],
 "metadata": {
  "kernelspec": {
   "display_name": "Python 3",
   "language": "python",
   "name": "python3"
  },
  "language_info": {
   "codemirror_mode": {
    "name": "ipython",
    "version": 3
   },
   "file_extension": ".py",
   "mimetype": "text/x-python",
   "name": "python",
   "nbconvert_exporter": "python",
   "pygments_lexer": "ipython3",
   "version": "3.7.3"
  }
 },
 "nbformat": 4,
 "nbformat_minor": 2
}
