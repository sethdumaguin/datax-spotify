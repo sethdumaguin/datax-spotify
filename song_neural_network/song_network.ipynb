{
 "cells": [
  {
   "cell_type": "code",
   "execution_count": 41,
   "metadata": {},
   "outputs": [],
   "source": [
    "import pandas as pd\n",
    "import numpy as np\n",
    "from sklearn.preprocessing import LabelEncoder"
   ]
  },
  {
   "cell_type": "code",
   "execution_count": 42,
   "metadata": {},
   "outputs": [],
   "source": [
    "d = pd.read_csv('songz.csv')"
   ]
  },
  {
   "cell_type": "code",
   "execution_count": 43,
   "metadata": {},
   "outputs": [],
   "source": [
    "d = d.dropna()"
   ]
  },
  {
   "cell_type": "code",
   "execution_count": null,
   "metadata": {},
   "outputs": [],
   "source": []
  },
  {
   "cell_type": "code",
   "execution_count": 79,
   "metadata": {},
   "outputs": [],
   "source": [
    "newDF = pd.DataFrame(data = {'mood': ['relaxed', 'angry', 'happy', 'sad'], 'mood score': [0,1,2,3]})"
   ]
  },
  {
   "cell_type": "code",
   "execution_count": 81,
   "metadata": {},
   "outputs": [
    {
     "data": {
      "text/html": [
       "<div>\n",
       "<style scoped>\n",
       "    .dataframe tbody tr th:only-of-type {\n",
       "        vertical-align: middle;\n",
       "    }\n",
       "\n",
       "    .dataframe tbody tr th {\n",
       "        vertical-align: top;\n",
       "    }\n",
       "\n",
       "    .dataframe thead th {\n",
       "        text-align: right;\n",
       "    }\n",
       "</style>\n",
       "<table border=\"1\" class=\"dataframe\">\n",
       "  <thead>\n",
       "    <tr style=\"text-align: right;\">\n",
       "      <th></th>\n",
       "      <th>mood</th>\n",
       "      <th>mood score</th>\n",
       "    </tr>\n",
       "  </thead>\n",
       "  <tbody>\n",
       "    <tr>\n",
       "      <th>0</th>\n",
       "      <td>relaxed</td>\n",
       "      <td>0</td>\n",
       "    </tr>\n",
       "    <tr>\n",
       "      <th>1</th>\n",
       "      <td>angry</td>\n",
       "      <td>1</td>\n",
       "    </tr>\n",
       "    <tr>\n",
       "      <th>2</th>\n",
       "      <td>happy</td>\n",
       "      <td>2</td>\n",
       "    </tr>\n",
       "    <tr>\n",
       "      <th>3</th>\n",
       "      <td>sad</td>\n",
       "      <td>3</td>\n",
       "    </tr>\n",
       "  </tbody>\n",
       "</table>\n",
       "</div>"
      ],
      "text/plain": [
       "      mood  mood score\n",
       "0  relaxed           0\n",
       "1    angry           1\n",
       "2    happy           2\n",
       "3      sad           3"
      ]
     },
     "execution_count": 81,
     "metadata": {},
     "output_type": "execute_result"
    }
   ],
   "source": [
    "newDF"
   ]
  },
  {
   "cell_type": "code",
   "execution_count": 44,
   "metadata": {},
   "outputs": [],
   "source": [
    "## we have mapped 0 to relaxed, 1 to angry, 2 to happy, and 3 to sad"
   ]
  },
  {
   "cell_type": "code",
   "execution_count": null,
   "metadata": {},
   "outputs": [],
   "source": []
  },
  {
   "cell_type": "code",
   "execution_count": 46,
   "metadata": {},
   "outputs": [],
   "source": [
    "from sklearn.utils import shuffle\n",
    "X = d.loc[:, ['title','artist','val','dB','bpm', 'nrgy', 'dnce']]\n",
    "y = d[['mood']]\n"
   ]
  },
  {
   "cell_type": "code",
   "execution_count": 47,
   "metadata": {
    "scrolled": true
   },
   "outputs": [],
   "source": [
    "from sklearn.preprocessing import LabelEncoder, OneHotEncoder\n",
    "le = LabelEncoder()\n",
    "X.loc[:,'title'] = le.fit_transform(X.loc[:,'title'])"
   ]
  },
  {
   "cell_type": "code",
   "execution_count": 48,
   "metadata": {},
   "outputs": [],
   "source": [
    "from sklearn.preprocessing import LabelEncoder, OneHotEncoder\n",
    "le2 = LabelEncoder()\n",
    "X.loc[:,'artist'] = le2.fit_transform(X.loc[:,'artist'])"
   ]
  },
  {
   "cell_type": "code",
   "execution_count": 50,
   "metadata": {},
   "outputs": [],
   "source": [
    "X = np.array(X)\n",
    "X, y = shuffle(X, y)"
   ]
  },
  {
   "cell_type": "code",
   "execution_count": 51,
   "metadata": {
    "scrolled": false
   },
   "outputs": [
    {
     "name": "stderr",
     "output_type": "stream",
     "text": [
      "/anaconda3/lib/python3.7/site-packages/sklearn/preprocessing/data.py:323: DataConversionWarning: Data with input dtype int64 were all converted to float64 by MinMaxScaler.\n",
      "  return self.partial_fit(X, y)\n",
      "/anaconda3/lib/python3.7/site-packages/sklearn/preprocessing/label.py:219: DataConversionWarning: A column-vector y was passed when a 1d array was expected. Please change the shape of y to (n_samples, ), for example using ravel().\n",
      "  y = column_or_1d(y, warn=True)\n",
      "/anaconda3/lib/python3.7/site-packages/sklearn/preprocessing/label.py:252: DataConversionWarning: A column-vector y was passed when a 1d array was expected. Please change the shape of y to (n_samples, ), for example using ravel().\n",
      "  y = column_or_1d(y, warn=True)\n"
     ]
    }
   ],
   "source": [
    "X_test = X[1200:]\n",
    "y_test = y[1200:]\n",
    "from sklearn.preprocessing import MinMaxScaler\n",
    "scaler = MinMaxScaler()\n",
    "X_test = scaler.fit_transform(X_test)\n",
    "y_test = scaler.fit_transform(y_test)\n",
    "# X_test,_ = standardize(X_test, [0])\n",
    "# y_test, _ = standardize(y_test, [0])\n",
    "from keras.utils import np_utils\n",
    "from keras.utils import normalize\n",
    "encoder = LabelEncoder()\n",
    "encoder.fit(y_test)\n",
    "encoded_Y = encoder.transform(y_test)\n",
    "y_test = np_utils.to_categorical(encoded_Y)"
   ]
  },
  {
   "cell_type": "code",
   "execution_count": 52,
   "metadata": {},
   "outputs": [],
   "source": [
    "X_train = X[0:900]\n",
    "Y_train = y[0:900]\n",
    "X_val = X[900:1200]\n",
    "Y_val = y[900:1200]"
   ]
  },
  {
   "cell_type": "code",
   "execution_count": 53,
   "metadata": {
    "scrolled": true
   },
   "outputs": [
    {
     "name": "stderr",
     "output_type": "stream",
     "text": [
      "/anaconda3/lib/python3.7/site-packages/sklearn/preprocessing/data.py:323: DataConversionWarning: Data with input dtype int64 were all converted to float64 by MinMaxScaler.\n",
      "  return self.partial_fit(X, y)\n",
      "/anaconda3/lib/python3.7/site-packages/sklearn/preprocessing/data.py:323: DataConversionWarning: Data with input dtype int64 were all converted to float64 by MinMaxScaler.\n",
      "  return self.partial_fit(X, y)\n"
     ]
    }
   ],
   "source": [
    "\n",
    "X_train = scaler.fit_transform(X_train)\n",
    "X_val = scaler.fit_transform(X_val)\n",
    "Y_train= scaler.fit_transform(Y_train)\n",
    "Y_val = scaler.fit_transform(Y_val)"
   ]
  },
  {
   "cell_type": "code",
   "execution_count": null,
   "metadata": {},
   "outputs": [],
   "source": []
  },
  {
   "cell_type": "code",
   "execution_count": 54,
   "metadata": {},
   "outputs": [
    {
     "name": "stderr",
     "output_type": "stream",
     "text": [
      "/anaconda3/lib/python3.7/site-packages/sklearn/preprocessing/label.py:219: DataConversionWarning: A column-vector y was passed when a 1d array was expected. Please change the shape of y to (n_samples, ), for example using ravel().\n",
      "  y = column_or_1d(y, warn=True)\n",
      "/anaconda3/lib/python3.7/site-packages/sklearn/preprocessing/label.py:252: DataConversionWarning: A column-vector y was passed when a 1d array was expected. Please change the shape of y to (n_samples, ), for example using ravel().\n",
      "  y = column_or_1d(y, warn=True)\n"
     ]
    }
   ],
   "source": [
    "from keras.utils import np_utils\n",
    "from keras.utils import normalize\n",
    "encoder = LabelEncoder()\n",
    "encoder.fit(Y_train)\n",
    "encoded_Y = encoder.transform(Y_train)\n",
    "\n",
    "Y_train =  np_utils.to_categorical(encoded_Y)"
   ]
  },
  {
   "cell_type": "code",
   "execution_count": 55,
   "metadata": {},
   "outputs": [],
   "source": [
    "from keras.utils import np_utils\n",
    "from keras.utils import normalize\n",
    "encoder = LabelEncoder()\n",
    "encoder.fit(Y_val)\n",
    "encoded_Y = encoder.transform(Y_val)\n",
    "Y_val = np_utils.to_categorical(encoded_Y)"
   ]
  },
  {
   "cell_type": "code",
   "execution_count": 56,
   "metadata": {},
   "outputs": [
    {
     "name": "stdout",
     "output_type": "stream",
     "text": [
      "_________________________________________________________________\n",
      "Layer (type)                 Output Shape              Param #   \n",
      "=================================================================\n",
      "dense_5 (Dense)              (None, 48)                336       \n",
      "_________________________________________________________________\n",
      "batch_normalization_5 (Batch (None, 48)                192       \n",
      "_________________________________________________________________\n",
      "dropout_5 (Dropout)          (None, 48)                0         \n",
      "_________________________________________________________________\n",
      "dense_6 (Dense)              (None, 24)                1176      \n",
      "_________________________________________________________________\n",
      "batch_normalization_6 (Batch (None, 24)                96        \n",
      "_________________________________________________________________\n",
      "dropout_6 (Dropout)          (None, 24)                0         \n",
      "_________________________________________________________________\n",
      "dense_7 (Dense)              (None, 12)                300       \n",
      "_________________________________________________________________\n",
      "batch_normalization_7 (Batch (None, 12)                48        \n",
      "_________________________________________________________________\n",
      "dropout_7 (Dropout)          (None, 12)                0         \n",
      "_________________________________________________________________\n",
      "dense_8 (Dense)              (None, 6)                 78        \n",
      "_________________________________________________________________\n",
      "batch_normalization_8 (Batch (None, 6)                 24        \n",
      "_________________________________________________________________\n",
      "dropout_8 (Dropout)          (None, 6)                 0         \n",
      "_________________________________________________________________\n",
      "output (Dense)               (None, 4)                 28        \n",
      "=================================================================\n",
      "Total params: 2,278\n",
      "Trainable params: 2,098\n",
      "Non-trainable params: 180\n",
      "_________________________________________________________________\n"
     ]
    }
   ],
   "source": [
    "from keras.models import Sequential\n",
    "from keras.layers.advanced_activations import LeakyReLU\n",
    "from keras.layers import Dense, Dropout\n",
    "from keras.layers import Embedding\n",
    "from keras.layers import BatchNormalization\n",
    "from keras import regularizers\n",
    "from keras.optimizers import Adam, SGD\n",
    "\n",
    "model = Sequential()\n",
    "\n",
    "# model.add(Dense(64, input_shape=(7,), activation='relu'))\n",
    "# model.add(BatchNormalization())\n",
    "# model.add(LeakyReLU(alpha=0.001))\n",
    "# model.add(Dropout(0.4))\n",
    "model.add(Dense(48, activation='relu', input_shape=(6,)))\n",
    "model.add(BatchNormalization())\n",
    "model.add(Dropout(0.2))\n",
    "\n",
    "model.add(Dense(24))\n",
    "model.add(BatchNormalization())\n",
    "model.add(Dropout(0.2))\n",
    "\n",
    "model.add(Dense(12))\n",
    "model.add(BatchNormalization())\n",
    "model.add(Dropout(0.2))\n",
    "\n",
    "model.add(Dense(6))\n",
    "model.add(BatchNormalization())\n",
    "model.add(Dropout(0.2))\n",
    "\n",
    "# model.add(Dense(64, activation='relu'))\n",
    "# #model.add(BatchNormalization())\n",
    "# model.add(Dropout(0.2))\n",
    "\n",
    "\n",
    "model.add(Dense(4, activation='sigmoid', name='output'))\n",
    "\n",
    "\n",
    "model.summary()"
   ]
  },
  {
   "cell_type": "code",
   "execution_count": null,
   "metadata": {},
   "outputs": [],
   "source": []
  },
  {
   "cell_type": "code",
   "execution_count": null,
   "metadata": {},
   "outputs": [],
   "source": []
  },
  {
   "cell_type": "code",
   "execution_count": 57,
   "metadata": {},
   "outputs": [
    {
     "name": "stdout",
     "output_type": "stream",
     "text": [
      "Train on 900 samples, validate on 300 samples\n",
      "Epoch 1/50\n",
      " - 2s - loss: 0.8276 - acc: 0.5158 - val_loss: 0.7063 - val_acc: 0.5542\n",
      "\n",
      "Epoch 00001: val_acc improved from -inf to 0.55417, saving model to best_model.h5\n",
      "Epoch 2/50\n",
      " - 0s - loss: 0.8099 - acc: 0.4969 - val_loss: 0.7048 - val_acc: 0.5425\n",
      "\n",
      "Epoch 00002: val_acc did not improve from 0.55417\n",
      "Epoch 3/50\n",
      " - 0s - loss: 0.7962 - acc: 0.5158 - val_loss: 0.7102 - val_acc: 0.5450\n",
      "\n",
      "Epoch 00003: val_acc did not improve from 0.55417\n",
      "Epoch 4/50\n",
      " - 0s - loss: 0.7807 - acc: 0.5325 - val_loss: 0.7092 - val_acc: 0.5492\n",
      "\n",
      "Epoch 00004: val_acc did not improve from 0.55417\n",
      "Epoch 5/50\n",
      " - 0s - loss: 0.7618 - acc: 0.5350 - val_loss: 0.7037 - val_acc: 0.5567\n",
      "\n",
      "Epoch 00005: val_acc improved from 0.55417 to 0.55667, saving model to best_model.h5\n",
      "Epoch 6/50\n",
      " - 0s - loss: 0.7529 - acc: 0.5428 - val_loss: 0.7023 - val_acc: 0.5600\n",
      "\n",
      "Epoch 00006: val_acc improved from 0.55667 to 0.56000, saving model to best_model.h5\n",
      "Epoch 7/50\n",
      " - 0s - loss: 0.7474 - acc: 0.5403 - val_loss: 0.6976 - val_acc: 0.5608\n",
      "\n",
      "Epoch 00007: val_acc improved from 0.56000 to 0.56083, saving model to best_model.h5\n",
      "Epoch 8/50\n",
      " - 0s - loss: 0.7308 - acc: 0.5567 - val_loss: 0.6920 - val_acc: 0.5808\n",
      "\n",
      "Epoch 00008: val_acc improved from 0.56083 to 0.58083, saving model to best_model.h5\n",
      "Epoch 9/50\n",
      " - 0s - loss: 0.7180 - acc: 0.5639 - val_loss: 0.6894 - val_acc: 0.5858\n",
      "\n",
      "Epoch 00009: val_acc improved from 0.58083 to 0.58583, saving model to best_model.h5\n",
      "Epoch 10/50\n",
      " - 0s - loss: 0.7205 - acc: 0.5733 - val_loss: 0.6804 - val_acc: 0.6050\n",
      "\n",
      "Epoch 00010: val_acc improved from 0.58583 to 0.60500, saving model to best_model.h5\n",
      "Epoch 11/50\n",
      " - 0s - loss: 0.7041 - acc: 0.5828 - val_loss: 0.6756 - val_acc: 0.6208\n",
      "\n",
      "Epoch 00011: val_acc improved from 0.60500 to 0.62083, saving model to best_model.h5\n",
      "Epoch 12/50\n",
      " - 0s - loss: 0.7076 - acc: 0.5631 - val_loss: 0.6725 - val_acc: 0.6250\n",
      "\n",
      "Epoch 00012: val_acc improved from 0.62083 to 0.62500, saving model to best_model.h5\n",
      "Epoch 13/50\n",
      " - 0s - loss: 0.7097 - acc: 0.5669 - val_loss: 0.6705 - val_acc: 0.6300\n",
      "\n",
      "Epoch 00013: val_acc improved from 0.62500 to 0.63000, saving model to best_model.h5\n",
      "Epoch 14/50\n",
      " - 0s - loss: 0.6959 - acc: 0.5814 - val_loss: 0.6677 - val_acc: 0.6408\n",
      "\n",
      "Epoch 00014: val_acc improved from 0.63000 to 0.64083, saving model to best_model.h5\n",
      "Epoch 15/50\n",
      " - 0s - loss: 0.6995 - acc: 0.5803 - val_loss: 0.6649 - val_acc: 0.6500\n",
      "\n",
      "Epoch 00015: val_acc improved from 0.64083 to 0.65000, saving model to best_model.h5\n",
      "Epoch 16/50\n",
      " - 0s - loss: 0.6908 - acc: 0.5906 - val_loss: 0.6636 - val_acc: 0.6542\n",
      "\n",
      "Epoch 00016: val_acc improved from 0.65000 to 0.65417, saving model to best_model.h5\n",
      "Epoch 17/50\n",
      " - 0s - loss: 0.6908 - acc: 0.5878 - val_loss: 0.6604 - val_acc: 0.6558\n",
      "\n",
      "Epoch 00017: val_acc improved from 0.65417 to 0.65583, saving model to best_model.h5\n",
      "Epoch 18/50\n",
      " - 0s - loss: 0.6782 - acc: 0.6008 - val_loss: 0.6587 - val_acc: 0.6625\n",
      "\n",
      "Epoch 00018: val_acc improved from 0.65583 to 0.66250, saving model to best_model.h5\n",
      "Epoch 19/50\n",
      " - 0s - loss: 0.6736 - acc: 0.6128 - val_loss: 0.6576 - val_acc: 0.6658\n",
      "\n",
      "Epoch 00019: val_acc improved from 0.66250 to 0.66583, saving model to best_model.h5\n",
      "Epoch 20/50\n",
      " - 0s - loss: 0.6717 - acc: 0.6008 - val_loss: 0.6556 - val_acc: 0.6750\n",
      "\n",
      "Epoch 00020: val_acc improved from 0.66583 to 0.67500, saving model to best_model.h5\n",
      "Epoch 21/50\n",
      " - 0s - loss: 0.6666 - acc: 0.6147 - val_loss: 0.6514 - val_acc: 0.6808\n",
      "\n",
      "Epoch 00021: val_acc improved from 0.67500 to 0.68083, saving model to best_model.h5\n",
      "Epoch 22/50\n",
      " - 0s - loss: 0.6679 - acc: 0.6089 - val_loss: 0.6463 - val_acc: 0.6842\n",
      "\n",
      "Epoch 00022: val_acc improved from 0.68083 to 0.68417, saving model to best_model.h5\n",
      "Epoch 23/50\n",
      " - 0s - loss: 0.6643 - acc: 0.6261 - val_loss: 0.6424 - val_acc: 0.6850\n",
      "\n",
      "Epoch 00023: val_acc improved from 0.68417 to 0.68500, saving model to best_model.h5\n",
      "Epoch 24/50\n",
      " - 0s - loss: 0.6470 - acc: 0.6375 - val_loss: 0.6397 - val_acc: 0.6908\n",
      "\n",
      "Epoch 00024: val_acc improved from 0.68500 to 0.69083, saving model to best_model.h5\n",
      "Epoch 25/50\n",
      " - 0s - loss: 0.6567 - acc: 0.6231 - val_loss: 0.6373 - val_acc: 0.6933\n",
      "\n",
      "Epoch 00025: val_acc improved from 0.69083 to 0.69333, saving model to best_model.h5\n",
      "Epoch 26/50\n",
      " - 0s - loss: 0.6502 - acc: 0.6350 - val_loss: 0.6339 - val_acc: 0.6908\n",
      "\n",
      "Epoch 00026: val_acc did not improve from 0.69333\n",
      "Epoch 27/50\n",
      " - 0s - loss: 0.6474 - acc: 0.6392 - val_loss: 0.6302 - val_acc: 0.6917\n",
      "\n",
      "Epoch 00027: val_acc did not improve from 0.69333\n",
      "Epoch 28/50\n",
      " - 0s - loss: 0.6403 - acc: 0.6550 - val_loss: 0.6279 - val_acc: 0.6992\n",
      "\n",
      "Epoch 00028: val_acc improved from 0.69333 to 0.69917, saving model to best_model.h5\n",
      "Epoch 29/50\n",
      " - 0s - loss: 0.6338 - acc: 0.6589 - val_loss: 0.6264 - val_acc: 0.6992\n",
      "\n",
      "Epoch 00029: val_acc improved from 0.69917 to 0.69917, saving model to best_model.h5\n",
      "Epoch 30/50\n",
      " - 0s - loss: 0.6353 - acc: 0.6619 - val_loss: 0.6242 - val_acc: 0.6992\n",
      "\n",
      "Epoch 00030: val_acc did not improve from 0.69917\n",
      "Epoch 31/50\n",
      " - 0s - loss: 0.6310 - acc: 0.6661 - val_loss: 0.6220 - val_acc: 0.6983\n",
      "\n",
      "Epoch 00031: val_acc did not improve from 0.69917\n",
      "Epoch 32/50\n",
      " - 0s - loss: 0.6348 - acc: 0.6633 - val_loss: 0.6195 - val_acc: 0.7025\n",
      "\n",
      "Epoch 00032: val_acc improved from 0.69917 to 0.70250, saving model to best_model.h5\n",
      "Epoch 33/50\n",
      " - 0s - loss: 0.6255 - acc: 0.6675 - val_loss: 0.6181 - val_acc: 0.7075\n",
      "\n",
      "Epoch 00033: val_acc improved from 0.70250 to 0.70750, saving model to best_model.h5\n",
      "Epoch 34/50\n",
      " - 0s - loss: 0.6328 - acc: 0.6669 - val_loss: 0.6160 - val_acc: 0.7075\n",
      "\n",
      "Epoch 00034: val_acc did not improve from 0.70750\n",
      "Epoch 35/50\n",
      " - 0s - loss: 0.6269 - acc: 0.6731 - val_loss: 0.6140 - val_acc: 0.7075\n",
      "\n",
      "Epoch 00035: val_acc improved from 0.70750 to 0.70750, saving model to best_model.h5\n",
      "Epoch 36/50\n",
      " - 0s - loss: 0.6250 - acc: 0.6678 - val_loss: 0.6111 - val_acc: 0.7125\n",
      "\n",
      "Epoch 00036: val_acc improved from 0.70750 to 0.71250, saving model to best_model.h5\n",
      "Epoch 37/50\n",
      " - 0s - loss: 0.6224 - acc: 0.6747 - val_loss: 0.6093 - val_acc: 0.7142\n",
      "\n",
      "Epoch 00037: val_acc improved from 0.71250 to 0.71417, saving model to best_model.h5\n",
      "Epoch 38/50\n",
      " - 0s - loss: 0.6313 - acc: 0.6719 - val_loss: 0.6102 - val_acc: 0.7125\n",
      "\n",
      "Epoch 00038: val_acc did not improve from 0.71417\n",
      "Epoch 39/50\n",
      " - 0s - loss: 0.6197 - acc: 0.6778 - val_loss: 0.6096 - val_acc: 0.7175\n",
      "\n",
      "Epoch 00039: val_acc improved from 0.71417 to 0.71750, saving model to best_model.h5\n",
      "Epoch 40/50\n",
      " - 0s - loss: 0.6099 - acc: 0.6928 - val_loss: 0.6082 - val_acc: 0.7175\n",
      "\n",
      "Epoch 00040: val_acc did not improve from 0.71750\n",
      "Epoch 41/50\n",
      " - 0s - loss: 0.6206 - acc: 0.6833 - val_loss: 0.6066 - val_acc: 0.7167\n",
      "\n",
      "Epoch 00041: val_acc did not improve from 0.71750\n",
      "Epoch 42/50\n",
      " - 0s - loss: 0.6072 - acc: 0.6981 - val_loss: 0.6015 - val_acc: 0.7233\n",
      "\n",
      "Epoch 00042: val_acc improved from 0.71750 to 0.72333, saving model to best_model.h5\n",
      "Epoch 43/50\n",
      " - 0s - loss: 0.6046 - acc: 0.6989 - val_loss: 0.5981 - val_acc: 0.7275\n",
      "\n",
      "Epoch 00043: val_acc improved from 0.72333 to 0.72750, saving model to best_model.h5\n",
      "Epoch 44/50\n",
      " - 0s - loss: 0.6082 - acc: 0.6903 - val_loss: 0.5954 - val_acc: 0.7292\n",
      "\n",
      "Epoch 00044: val_acc improved from 0.72750 to 0.72917, saving model to best_model.h5\n",
      "Epoch 45/50\n",
      " - 0s - loss: 0.5992 - acc: 0.7014 - val_loss: 0.5932 - val_acc: 0.7300\n",
      "\n",
      "Epoch 00045: val_acc improved from 0.72917 to 0.73000, saving model to best_model.h5\n",
      "Epoch 46/50\n",
      " - 0s - loss: 0.6114 - acc: 0.6978 - val_loss: 0.5909 - val_acc: 0.7267\n",
      "\n",
      "Epoch 00046: val_acc did not improve from 0.73000\n",
      "Epoch 47/50\n",
      " - 0s - loss: 0.6025 - acc: 0.6942 - val_loss: 0.5893 - val_acc: 0.7300\n",
      "\n",
      "Epoch 00047: val_acc did not improve from 0.73000\n",
      "Epoch 48/50\n",
      " - 0s - loss: 0.6016 - acc: 0.7042 - val_loss: 0.5879 - val_acc: 0.7333\n",
      "\n",
      "Epoch 00048: val_acc improved from 0.73000 to 0.73333, saving model to best_model.h5\n",
      "Epoch 49/50\n",
      " - 0s - loss: 0.5938 - acc: 0.7111 - val_loss: 0.5862 - val_acc: 0.7325\n",
      "\n",
      "Epoch 00049: val_acc did not improve from 0.73333\n",
      "Epoch 50/50\n",
      " - 0s - loss: 0.5902 - acc: 0.7078 - val_loss: 0.5845 - val_acc: 0.7308\n",
      "\n",
      "Epoch 00050: val_acc did not improve from 0.73333\n"
     ]
    }
   ],
   "source": [
    "# Adam optimizer with learning rate of 0.001\n",
    "from keras.callbacks import EarlyStopping\n",
    "from keras.callbacks import ModelCheckpoint\n",
    "optimizer = Adam(lr=0.001)\n",
    "adam = Adam(lr=0.01, beta_1=0.9, beta_2=0.999, epsilon=1e-10, decay=0)\n",
    "opt = SGD(lr=0.01, momentum=0.9)\n",
    "model.compile(optimizer = 'adam' , loss='binary_crossentropy', metrics=['accuracy'])\n",
    "es = EarlyStopping(monitor='val_loss', mode='min', verbose=1, patience=20)\n",
    "mc = ModelCheckpoint('best_model.h5', monitor='val_acc', mode='max', verbose=1, save_best_only=True)\n",
    "hist = model.fit(X_train, Y_train, verbose=2, batch_size=128, epochs=50, validation_data=(X_val,Y_val),callbacks=[es, mc])"
   ]
  },
  {
   "cell_type": "code",
   "execution_count": 58,
   "metadata": {},
   "outputs": [],
   "source": [
    "scores = model.evaluate(X_test, y_test, verbose=0)"
   ]
  },
  {
   "cell_type": "code",
   "execution_count": 59,
   "metadata": {},
   "outputs": [
    {
     "data": {
      "text/plain": [
       "[0.5802864290231111, 0.739238409806561]"
      ]
     },
     "execution_count": 59,
     "metadata": {},
     "output_type": "execute_result"
    }
   ],
   "source": [
    "scores"
   ]
  },
  {
   "cell_type": "code",
   "execution_count": 60,
   "metadata": {},
   "outputs": [
    {
     "data": {
      "image/png": "[encoded data removed]",
      "text/plain": [
       "<Figure size 720x504 with 4 Axes>"
      ]
     },
     "metadata": {
      "needs_background": "light"
     },
     "output_type": "display_data"
    }
   ],
   "source": [
    "import numpy as np\n",
    "import matplotlib.pyplot as plt\n",
    "plt.figure(1, figsize=(10,7))\n",
    "\n",
    "# Training accuracy\n",
    "plt.subplot(221)\n",
    "plt.plot(range(0,50), hist.history['acc'], c = 'forestgreen');\n",
    "plt.title('Training accuracy per epoch');\n",
    "\n",
    "# Training loss #\n",
    "plt.subplot(222)\n",
    "plt.plot(range(0,50), hist.history['loss'], c = 'forestgreen');\n",
    "plt.title('Training loss per epoch');\n",
    "\n",
    "# Validation accuracy #\n",
    "plt.subplot(223)\n",
    "plt.plot(range(0,50), hist.history['val_acc'], c = 'blue');\n",
    "plt.title('Validation accuracy per epoch');\n",
    "\n",
    "# Validation loss #\n",
    "plt.subplot(224)\n",
    "plt.plot(range(0,50), hist.history['val_loss'], c = 'blue');\n",
    "plt.title('Validation loss per epoch');"
   ]
  },
  {
   "cell_type": "code",
   "execution_count": 61,
   "metadata": {},
   "outputs": [],
   "source": [
    "import pickle\n",
    "filename = 'song_NN.pickle'\n",
    "\n",
    "pickle_out = open(filename, 'wb')\n",
    "\n",
    "pickle.dump(model, pickle_out)\n",
    "pickle_out.close()"
   ]
  },
  {
   "cell_type": "code",
   "execution_count": 62,
   "metadata": {},
   "outputs": [],
   "source": [
    "pickle_in = open(\"song_NN.pickle\",\"rb\")\n",
    "example_dict = pickle.load(pickle_in)\n",
    "y_pred = example_dict.predict(X_test)"
   ]
  },
  {
   "cell_type": "code",
   "execution_count": 63,
   "metadata": {},
   "outputs": [],
   "source": [
    "arr = []\n",
    "for i in y_pred:\n",
    "    yvals = np.where(i == np.amax(i))\n",
    "    arr.append(yvals)"
   ]
  },
  {
   "cell_type": "code",
   "execution_count": 64,
   "metadata": {},
   "outputs": [],
   "source": [
    "array = []\n",
    "for i in arr:\n",
    "    array.append(i[0][0])"
   ]
  },
  {
   "cell_type": "code",
   "execution_count": 65,
   "metadata": {},
   "outputs": [],
   "source": [
    "fin_arr = np.array(array)"
   ]
  },
  {
   "cell_type": "code",
   "execution_count": 66,
   "metadata": {},
   "outputs": [],
   "source": [
    "acc = 0\n",
    "for i in y[1200:].values:\n",
    "    for j in fin_arr:\n",
    "        if i == j:\n",
    "            acc += 1"
   ]
  },
  {
   "cell_type": "code",
   "execution_count": 67,
   "metadata": {},
   "outputs": [
    {
     "data": {
      "text/plain": [
       "78.13576158940397"
      ]
     },
     "execution_count": 67,
     "metadata": {},
     "output_type": "execute_result"
    }
   ],
   "source": [
    "acc/len(y_pred)"
   ]
  }
 ],
 "metadata": {
  "kernelspec": {
   "display_name": "Python 3",
   "language": "python",
   "name": "python3"
  },
  "language_info": {
   "codemirror_mode": {
    "name": "ipython",
    "version": 3
   },
   "file_extension": ".py",
   "mimetype": "text/x-python",
   "name": "python",
   "nbconvert_exporter": "python",
   "pygments_lexer": "ipython3",
   "version": "3.7.1"
  }
 },
 "nbformat": 4,
 "nbformat_minor": 2
}
